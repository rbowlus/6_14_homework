{
 "cells": [
  {
   "cell_type": "code",
   "execution_count": null,
   "id": "28ec4427",
   "metadata": {},
   "outputs": [],
   "source": [
    "def calculator():\n",
    "    number_1 = int(input(\"Enter your 1st value:\\n\"))\n",
    "    number_2 = int(input(\"Enter your 2nd value:\\n\"))\n",
    "    calculation = input('Enter + for addition, - for subtraction, / for division,  * for multiplication, ** for power:\\n')\n",
    "\n",
    "    if calculation == '+':\n",
    "        print(number_1 + number_2)\n",
    "    elif calculation == '-': \n",
    "        print(number_1 - number_2) \n",
    "    elif calculation == '*':\n",
    "        print(number_1 * number_2)\n",
    "    elif calculation == '/':\n",
    "        print(number_1 / number_2)\n",
    "    elif calculation == '**':\n",
    "        print(number_1 ** number_2)\n",
    "    else:\n",
    "        print(\"You have not printed a valid operator.\")\n",
    "        \n",
    "\n",
    "calculator()\n",
    "\n",
    "\n",
    "def continue_calc():\n",
    "    to_continue = input('Do you wish to continue? Y/N\\n')\n",
    "    \n",
    "    if to_continue.upper() == \"Y\":\n",
    "        calculator()\n",
    "    if to_continue.upper() == \"N\":\n",
    "        print(\"Thank you for using the calculator!\")\n",
    "    else:\n",
    "        print(\"Please try again.\")\n",
    "        continue_calc()\n",
    "        \n",
    "continue_calc()"
   ]
  },
  {
   "cell_type": "code",
   "execution_count": null,
   "id": "b1686ac3",
   "metadata": {},
   "outputs": [],
   "source": [
    "def create_pyramid(): \n",
    "    level = int(input('Please enter value:\\n'))\n",
    "    for x in range(1, level + 1): \n",
    "        print('{:^{}}'.format('X'*(2*x -1), 2*level-1)) #<-- range(1, level +1)\n",
    "        #print(\" \" * (level - x +1)+'X'*(2*x+1) ) #<-- range(level + 1)\n",
    "        \n",
    "        \n",
    "create_pyramid()"
   ]
  },
  {
   "cell_type": "code",
   "execution_count": null,
   "id": "aed8b4c2",
   "metadata": {},
   "outputs": [],
   "source": []
  }
 ],
 "metadata": {
  "kernelspec": {
   "display_name": "Python 3",
   "language": "python",
   "name": "python3"
  }
 },
 "nbformat": 4,
 "nbformat_minor": 5
}
